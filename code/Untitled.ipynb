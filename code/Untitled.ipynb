{
 "cells": [
  {
   "cell_type": "code",
   "execution_count": 33,
   "metadata": {},
   "outputs": [],
   "source": [
    "import pandas as pd\n",
    "import numpy as np\n",
    "from sklearn.model_selection import train_test_split\n",
    "from sklearn.linear_model import LinearRegression\n",
    "from sklearn.metrics import mean_squared_error\n",
    "import seaborn as sns\n",
    "import matplotlib.pyplot as plt\n",
    "%matplotlib inline\n",
    "from sklearn.preprocessing import StandardScaler"
   ]
  },
  {
   "cell_type": "code",
   "execution_count": 34,
   "metadata": {},
   "outputs": [
    {
     "name": "stdout",
     "output_type": "stream",
     "text": [
      "CPU times: user 1e+03 ns, sys: 1e+03 ns, total: 2 µs\n",
      "Wall time: 6.2 µs\n"
     ]
    }
   ],
   "source": [
    "%time\n",
    "df = pd.read_csv('../data/dataset/winequality-red.csv')"
   ]
  },
  {
   "cell_type": "code",
   "execution_count": 35,
   "metadata": {},
   "outputs": [
    {
     "data": {
      "text/html": [
       "<div>\n",
       "<style scoped>\n",
       "    .dataframe tbody tr th:only-of-type {\n",
       "        vertical-align: middle;\n",
       "    }\n",
       "\n",
       "    .dataframe tbody tr th {\n",
       "        vertical-align: top;\n",
       "    }\n",
       "\n",
       "    .dataframe thead th {\n",
       "        text-align: right;\n",
       "    }\n",
       "</style>\n",
       "<table border=\"1\" class=\"dataframe\">\n",
       "  <thead>\n",
       "    <tr style=\"text-align: right;\">\n",
       "      <th></th>\n",
       "      <th>fixed acidity</th>\n",
       "      <th>volatile acidity</th>\n",
       "      <th>citric acid</th>\n",
       "      <th>residual sugar</th>\n",
       "      <th>chlorides</th>\n",
       "      <th>free sulfur dioxide</th>\n",
       "      <th>total sulfur dioxide</th>\n",
       "      <th>density</th>\n",
       "      <th>pH</th>\n",
       "      <th>sulphates</th>\n",
       "      <th>alcohol</th>\n",
       "      <th>quality</th>\n",
       "    </tr>\n",
       "  </thead>\n",
       "  <tbody>\n",
       "    <tr>\n",
       "      <th>1475</th>\n",
       "      <td>5.3</td>\n",
       "      <td>0.470</td>\n",
       "      <td>0.11</td>\n",
       "      <td>2.2</td>\n",
       "      <td>0.048</td>\n",
       "      <td>16.0</td>\n",
       "      <td>89.0</td>\n",
       "      <td>0.99182</td>\n",
       "      <td>3.54</td>\n",
       "      <td>0.88</td>\n",
       "      <td>13.566667</td>\n",
       "      <td>7</td>\n",
       "    </tr>\n",
       "    <tr>\n",
       "      <th>990</th>\n",
       "      <td>7.7</td>\n",
       "      <td>0.390</td>\n",
       "      <td>0.12</td>\n",
       "      <td>1.7</td>\n",
       "      <td>0.097</td>\n",
       "      <td>19.0</td>\n",
       "      <td>27.0</td>\n",
       "      <td>0.99596</td>\n",
       "      <td>3.16</td>\n",
       "      <td>0.49</td>\n",
       "      <td>9.400000</td>\n",
       "      <td>5</td>\n",
       "    </tr>\n",
       "    <tr>\n",
       "      <th>1142</th>\n",
       "      <td>6.9</td>\n",
       "      <td>0.450</td>\n",
       "      <td>0.11</td>\n",
       "      <td>2.4</td>\n",
       "      <td>0.043</td>\n",
       "      <td>6.0</td>\n",
       "      <td>12.0</td>\n",
       "      <td>0.99354</td>\n",
       "      <td>3.30</td>\n",
       "      <td>0.65</td>\n",
       "      <td>11.400000</td>\n",
       "      <td>6</td>\n",
       "    </tr>\n",
       "    <tr>\n",
       "      <th>881</th>\n",
       "      <td>7.6</td>\n",
       "      <td>0.715</td>\n",
       "      <td>0.00</td>\n",
       "      <td>2.1</td>\n",
       "      <td>0.068</td>\n",
       "      <td>30.0</td>\n",
       "      <td>35.0</td>\n",
       "      <td>0.99533</td>\n",
       "      <td>3.48</td>\n",
       "      <td>0.65</td>\n",
       "      <td>11.400000</td>\n",
       "      <td>6</td>\n",
       "    </tr>\n",
       "    <tr>\n",
       "      <th>785</th>\n",
       "      <td>9.9</td>\n",
       "      <td>0.350</td>\n",
       "      <td>0.41</td>\n",
       "      <td>2.3</td>\n",
       "      <td>0.083</td>\n",
       "      <td>11.0</td>\n",
       "      <td>61.0</td>\n",
       "      <td>0.99820</td>\n",
       "      <td>3.21</td>\n",
       "      <td>0.50</td>\n",
       "      <td>9.500000</td>\n",
       "      <td>5</td>\n",
       "    </tr>\n",
       "  </tbody>\n",
       "</table>\n",
       "</div>"
      ],
      "text/plain": [
       "      fixed acidity  volatile acidity  citric acid  residual sugar  chlorides  \\\n",
       "1475            5.3             0.470         0.11             2.2      0.048   \n",
       "990             7.7             0.390         0.12             1.7      0.097   \n",
       "1142            6.9             0.450         0.11             2.4      0.043   \n",
       "881             7.6             0.715         0.00             2.1      0.068   \n",
       "785             9.9             0.350         0.41             2.3      0.083   \n",
       "\n",
       "      free sulfur dioxide  total sulfur dioxide  density    pH  sulphates  \\\n",
       "1475                 16.0                  89.0  0.99182  3.54       0.88   \n",
       "990                  19.0                  27.0  0.99596  3.16       0.49   \n",
       "1142                  6.0                  12.0  0.99354  3.30       0.65   \n",
       "881                  30.0                  35.0  0.99533  3.48       0.65   \n",
       "785                  11.0                  61.0  0.99820  3.21       0.50   \n",
       "\n",
       "        alcohol  quality  \n",
       "1475  13.566667        7  \n",
       "990    9.400000        5  \n",
       "1142  11.400000        6  \n",
       "881   11.400000        6  \n",
       "785    9.500000        5  "
      ]
     },
     "execution_count": 35,
     "metadata": {},
     "output_type": "execute_result"
    }
   ],
   "source": [
    "df.sample(5)"
   ]
  },
  {
   "cell_type": "code",
   "execution_count": 36,
   "metadata": {},
   "outputs": [
    {
     "name": "stdout",
     "output_type": "stream",
     "text": [
      "<class 'pandas.core.frame.DataFrame'>\n",
      "RangeIndex: 1599 entries, 0 to 1598\n",
      "Data columns (total 12 columns):\n",
      "fixed acidity           1599 non-null float64\n",
      "volatile acidity        1599 non-null float64\n",
      "citric acid             1599 non-null float64\n",
      "residual sugar          1599 non-null float64\n",
      "chlorides               1599 non-null float64\n",
      "free sulfur dioxide     1599 non-null float64\n",
      "total sulfur dioxide    1599 non-null float64\n",
      "density                 1599 non-null float64\n",
      "pH                      1599 non-null float64\n",
      "sulphates               1599 non-null float64\n",
      "alcohol                 1599 non-null float64\n",
      "quality                 1599 non-null int64\n",
      "dtypes: float64(11), int64(1)\n",
      "memory usage: 150.0 KB\n"
     ]
    }
   ],
   "source": [
    "df.info()"
   ]
  },
  {
   "cell_type": "code",
   "execution_count": 37,
   "metadata": {},
   "outputs": [],
   "source": [
    "y = df['quality']"
   ]
  },
  {
   "cell_type": "code",
   "execution_count": 38,
   "metadata": {},
   "outputs": [],
   "source": [
    "X = df.drop('quality', axis=1)"
   ]
  },
  {
   "cell_type": "code",
   "execution_count": 39,
   "metadata": {},
   "outputs": [],
   "source": [
    "X_train, X_test, y_train, y_test = train_test_split(X, y, test_size=0.33, random_state=101)"
   ]
  },
  {
   "cell_type": "code",
   "execution_count": 40,
   "metadata": {},
   "outputs": [],
   "source": [
    "linreg = LinearRegression()"
   ]
  },
  {
   "cell_type": "code",
   "execution_count": 41,
   "metadata": {},
   "outputs": [
    {
     "data": {
      "text/plain": [
       "LinearRegression(copy_X=True, fit_intercept=True, n_jobs=None,\n",
       "         normalize=False)"
      ]
     },
     "execution_count": 41,
     "metadata": {},
     "output_type": "execute_result"
    }
   ],
   "source": [
    "linreg.fit(X_train, y_train)"
   ]
  },
  {
   "cell_type": "code",
   "execution_count": 42,
   "metadata": {},
   "outputs": [
    {
     "data": {
      "text/plain": [
       "0.49083830035637677"
      ]
     },
     "execution_count": 42,
     "metadata": {},
     "output_type": "execute_result"
    }
   ],
   "source": [
    "y_pred = linreg.predict(X_test)\n",
    "mean_squared_error(y_test, y_pred)"
   ]
  },
  {
   "cell_type": "code",
   "execution_count": 43,
   "metadata": {},
   "outputs": [
    {
     "data": {
      "text/plain": [
       "0.5643939393939394"
      ]
     },
     "execution_count": 43,
     "metadata": {},
     "output_type": "execute_result"
    }
   ],
   "source": [
    "y_pred = np.round(linreg.predict(X_test), 0)\n",
    "mean_squared_error(y_test, y_pred)"
   ]
  },
  {
   "cell_type": "code",
   "execution_count": 44,
   "metadata": {},
   "outputs": [],
   "source": [
    "residual = y_test - y_pred"
   ]
  },
  {
   "cell_type": "code",
   "execution_count": 45,
   "metadata": {},
   "outputs": [
    {
     "data": {
      "text/plain": [
       "678     0.0\n",
       "1500    0.0\n",
       "1457    0.0\n",
       "1079    1.0\n",
       "909     0.0\n",
       "1114    0.0\n",
       "1322   -1.0\n",
       "346     1.0\n",
       "1129    0.0\n",
       "1019   -1.0\n",
       "389     1.0\n",
       "497    -1.0\n",
       "1105   -1.0\n",
       "742     0.0\n",
       "325     0.0\n",
       "753     0.0\n",
       "1276   -2.0\n",
       "899    -2.0\n",
       "515     0.0\n",
       "1506    1.0\n",
       "958     1.0\n",
       "902     1.0\n",
       "1277    1.0\n",
       "1491   -1.0\n",
       "937    -2.0\n",
       "693     0.0\n",
       "60      0.0\n",
       "722    -1.0\n",
       "336    -1.0\n",
       "1498    1.0\n",
       "       ... \n",
       "184     1.0\n",
       "900    -1.0\n",
       "1243    0.0\n",
       "726     0.0\n",
       "1513    0.0\n",
       "1249    0.0\n",
       "1540    0.0\n",
       "254     1.0\n",
       "449     0.0\n",
       "383     0.0\n",
       "861     1.0\n",
       "351     1.0\n",
       "1081    1.0\n",
       "552     0.0\n",
       "997     1.0\n",
       "1568    0.0\n",
       "841     0.0\n",
       "1211    0.0\n",
       "1061    1.0\n",
       "677     0.0\n",
       "28      0.0\n",
       "1307   -2.0\n",
       "1077   -1.0\n",
       "629     0.0\n",
       "626     0.0\n",
       "990    -1.0\n",
       "1444    0.0\n",
       "1202    2.0\n",
       "1291    0.0\n",
       "500     1.0\n",
       "Name: quality, Length: 528, dtype: float64"
      ]
     },
     "execution_count": 45,
     "metadata": {},
     "output_type": "execute_result"
    }
   ],
   "source": [
    "residual"
   ]
  },
  {
   "cell_type": "code",
   "execution_count": 32,
   "metadata": {},
   "outputs": [
    {
     "data": {
      "text/plain": [
       "<matplotlib.axes._subplots.AxesSubplot at 0x7f9700149d30>"
      ]
     },
     "execution_count": 32,
     "metadata": {},
     "output_type": "execute_result"
    },
    {
     "data": {
      "image/png": "[encoded data removed]",
      "text/plain": [
       "<Figure size 432x288 with 1 Axes>"
      ]
     },
     "metadata": {
      "needs_background": "light"
     },
     "output_type": "display_data"
    }
   ],
   "source": [
    "sns.scatterplot(x=range(len(residual)), y=residual)"
   ]
  },
  {
   "cell_type": "code",
   "execution_count": 46,
   "metadata": {},
   "outputs": [
    {
     "data": {
      "text/plain": [
       "Index(['fixed acidity', 'volatile acidity', 'citric acid', 'residual sugar',\n",
       "       'chlorides', 'free sulfur dioxide', 'total sulfur dioxide', 'density',\n",
       "       'pH', 'sulphates', 'alcohol', 'quality'],\n",
       "      dtype='object')"
      ]
     },
     "execution_count": 46,
     "metadata": {},
     "output_type": "execute_result"
    }
   ],
   "source": [
    "df.columns"
   ]
  },
  {
   "cell_type": "code",
   "execution_count": 47,
   "metadata": {},
   "outputs": [
    {
     "data": {
      "text/plain": [
       "0.0320423261333205"
      ]
     },
     "execution_count": 47,
     "metadata": {},
     "output_type": "execute_result"
    }
   ],
   "source": [
    "np.var(X['volatile acidity'])"
   ]
  },
  {
   "cell_type": "code",
   "execution_count": 51,
   "metadata": {},
   "outputs": [
    {
     "name": "stdout",
     "output_type": "stream",
     "text": [
      "3.0295205688671114\n",
      "0.0320423261333205\n",
      "0.03792375112494089\n",
      "1.9866539202698996\n",
      "0.0022137573233114347\n",
      "109.34645676374501\n",
      "1081.42563558916\n",
      "3.5598017926307083e-06\n",
      "0.023820274241131787\n",
      "0.02871464701398349\n",
      "1.1349371714889036\n"
     ]
    }
   ],
   "source": [
    "for i in X: \n",
    "    print(np.var(X[i]))"
   ]
  },
  {
   "cell_type": "code",
   "execution_count": 73,
   "metadata": {},
   "outputs": [],
   "source": [
    "scalar = StandardScaler()"
   ]
  },
  {
   "cell_type": "code",
   "execution_count": 74,
   "metadata": {},
   "outputs": [],
   "source": [
    "scaled_data = scalar.fit_transform(X)"
   ]
  },
  {
   "cell_type": "code",
   "execution_count": 75,
   "metadata": {},
   "outputs": [],
   "source": [
    "scaled_data = pd.DataFrame(scaled_data, columns=X.columns)"
   ]
  },
  {
   "cell_type": "code",
   "execution_count": null,
   "metadata": {},
   "outputs": [],
   "source": []
  },
  {
   "cell_type": "code",
   "execution_count": 76,
   "metadata": {},
   "outputs": [
    {
     "name": "stdout",
     "output_type": "stream",
     "text": [
      "1.0000000000000002\n",
      "1.0000000000000002\n",
      "1.0\n",
      "1.0000000000000002\n",
      "1.0000000000000002\n",
      "1.0\n",
      "0.9999999999999999\n",
      "0.9999999999999999\n",
      "1.0\n",
      "1.0\n",
      "1.0\n"
     ]
    }
   ],
   "source": [
    "for i in scaled_data: \n",
    "    print(np.var(scaled_data[i]))"
   ]
  },
  {
   "cell_type": "code",
   "execution_count": 77,
   "metadata": {},
   "outputs": [
    {
     "name": "stdout",
     "output_type": "stream",
     "text": [
      "      fixed acidity  volatile acidity  citric acid  residual sugar  chlorides  \\\n",
      "0         -0.528360          0.961877    -1.391472       -0.453218  -0.243707   \n",
      "1         -0.298547          1.967442    -1.391472        0.043416   0.223875   \n",
      "2         -0.298547          1.297065    -1.186070       -0.169427   0.096353   \n",
      "3          1.654856         -1.384443     1.484154       -0.453218  -0.264960   \n",
      "4         -0.528360          0.961877    -1.391472       -0.453218  -0.243707   \n",
      "5         -0.528360          0.738418    -1.391472       -0.524166  -0.264960   \n",
      "6         -0.241094          0.403229    -1.083370       -0.666062  -0.392483   \n",
      "7         -0.585813          0.682553    -1.391472       -0.949853  -0.477498   \n",
      "8         -0.298547          0.291499    -1.288771       -0.382271  -0.307468   \n",
      "9         -0.470907         -0.155419     0.457144        2.526589  -0.349975   \n",
      "10        -0.930531          0.291499    -0.980669       -0.524166   0.202621   \n",
      "11        -0.470907         -0.155419     0.457144        2.526589  -0.349975   \n",
      "12        -1.562514          0.487026    -1.391472       -0.666062   0.032592   \n",
      "13        -0.298547          0.459094     0.097691       -0.666062   0.563935   \n",
      "14         0.333436          0.514959    -0.467164        0.894790   1.881666   \n",
      "15         0.333436          0.514959    -0.415813        0.965737   1.754143   \n",
      "16         0.103624         -1.384443     1.484154       -0.524166   0.096353   \n",
      "17        -0.126188          0.179770     0.046341       -0.595114   5.962380   \n",
      "18        -0.528360          0.347364    -0.980669        1.320476  -0.031169   \n",
      "19        -0.241094         -1.160984     1.227401       -0.524166   5.388530   \n",
      "20         0.333436         -1.719632     1.073350       -0.524166  -0.222453   \n",
      "21        -0.413454         -0.769931     0.200392       -0.169427  -0.116184   \n",
      "22        -0.241094         -0.546472    -0.313113       -0.666062   0.393905   \n",
      "23         0.103624         -0.211283    -0.826617       -0.169427  -0.073677   \n",
      "24        -0.815625         -0.714066    -0.672566       -0.098479  -0.052423   \n",
      "25        -1.160343         -0.769931    -0.569865       -0.807957  -0.158692   \n",
      "26        -0.413454         -0.658202    -0.159061       -0.524166  -0.158692   \n",
      "27        -0.241094         -0.546472    -0.313113       -0.666062   0.393905   \n",
      "28        -0.700719          1.017741    -1.391472       -0.453218  -0.158692   \n",
      "29        -0.298547          0.654620    -1.391472       -0.382271  -0.116184   \n",
      "...             ...               ...          ...             ...        ...   \n",
      "1569      -1.217796         -0.099554    -0.672566       -0.453218  -0.668781   \n",
      "1570      -1.102890         -0.937525     1.330102       -0.240375   3.029366   \n",
      "1571      -1.102890         -0.825796    -0.672566       -0.240375  -1.051348   \n",
      "1572      -0.585813          0.906012     0.251743       -0.240375  -0.392483   \n",
      "1573      -1.332702          0.291499    -0.364463       -0.098479  -0.264960   \n",
      "1574      -1.562514         -1.216849     2.613864        8.060517  -0.286214   \n",
      "1575      -0.470907         -0.043689     0.662546       -0.240375  -0.583766   \n",
      "1576      -0.183641         -1.272714     1.843607       -0.666062  -0.137438   \n",
      "1577      -1.217796          0.961877    -0.621215        1.817111  -0.243707   \n",
      "1578      -0.873078          0.794282    -0.621215       -0.524166   0.648950   \n",
      "1579      -1.217796          0.179770    -0.929318       -0.595114  -0.732542   \n",
      "1580      -0.528360         -0.993390     0.303093       -0.098479  -0.413736   \n",
      "1581      -1.217796          0.179770    -0.929318       -0.595114  -0.732542   \n",
      "1582      -1.275249          1.045674    -0.877968        0.043416  -0.732542   \n",
      "1583      -1.217796         -0.378878     0.097691       -0.311323  -0.286214   \n",
      "1584      -0.930531         -1.160984     0.867948       -0.098479  -0.562513   \n",
      "1585      -0.643266         -0.769931     0.867948        0.043416  -0.456244   \n",
      "1586      -0.470907         -1.216849     0.713897       -0.098479  -0.477498   \n",
      "1587      -1.447608          0.459094    -0.826617       -0.524166  -0.456244   \n",
      "1588      -0.643266          0.738418     0.303093       -0.027532  -0.413736   \n",
      "1589      -0.987984          1.101539    -0.364463        3.732701  -0.307468   \n",
      "1590      -1.160343          0.123905    -0.621215       -0.524166  -0.222453   \n",
      "1591      -1.677421          1.185336    -0.929318       -0.595114   0.032592   \n",
      "1592      -1.160343         -0.099554    -0.723916       -0.169427  -0.243707   \n",
      "1593      -0.873078          0.514959    -0.980669       -0.453218  -0.413736   \n",
      "1594      -1.217796          0.403229    -0.980669       -0.382271   0.053845   \n",
      "1595      -1.390155          0.123905    -0.877968       -0.240375  -0.541259   \n",
      "1596      -1.160343         -0.099554    -0.723916       -0.169427  -0.243707   \n",
      "1597      -1.390155          0.654620    -0.775267       -0.382271  -0.264960   \n",
      "1598      -1.332702         -1.216849     1.021999        0.752894  -0.434990   \n",
      "\n",
      "      free sulfur dioxide  total sulfur dioxide   density        pH  \\\n",
      "0               -0.466193             -0.379133  0.558274  1.288643   \n",
      "1                0.872638              0.624363  0.028261 -0.719933   \n",
      "2               -0.083669              0.229047  0.134264 -0.331177   \n",
      "3                0.107592              0.411500  0.664277 -0.979104   \n",
      "4               -0.466193             -0.379133  0.558274  1.288643   \n",
      "5               -0.274931             -0.196679  0.558274  1.288643   \n",
      "6               -0.083669              0.381091 -0.183745 -0.072005   \n",
      "7               -0.083669             -0.774449 -1.137769  0.511130   \n",
      "8               -0.657454             -0.865676  0.028261  0.316751   \n",
      "9                0.107592              1.688677  0.558274  0.251958   \n",
      "10              -0.083669              0.563545 -0.448752 -0.201591   \n",
      "11               0.107592              1.688677  0.558274  0.251958   \n",
      "12               0.011961              0.381091 -1.296773  1.742192   \n",
      "13              -0.657454             -0.531178  0.346269 -0.331177   \n",
      "14               3.454669              2.996263  0.982285 -0.979104   \n",
      "15               3.359038              3.087490  0.982285 -0.914312   \n",
      "16               1.828946              1.719086  0.081262 -0.072005   \n",
      "17               0.011961              0.289865  0.028261 -1.303068   \n",
      "18              -0.944346             -0.531178  0.346269  0.446337   \n",
      "19               0.107592              0.289865  0.081262 -1.756618   \n",
      "20               1.255161              0.411500  0.028261  0.511130   \n",
      "21               0.681377              0.745999  0.770280  1.353436   \n",
      "22              -0.561823             -0.287906 -0.077742 -0.914312   \n",
      "23              -0.657454              0.624363  0.028261 -0.914312   \n",
      "24               0.490115             -0.196679  0.028261  0.770301   \n",
      "25              -0.466193             -0.713631 -0.660757  0.187166   \n",
      "26              -1.135608             -1.078539 -0.289747 -0.201591   \n",
      "27              -0.561823             -0.287906 -0.077742 -0.914312   \n",
      "28              -0.179300             -0.348724  0.240266  1.029472   \n",
      "29              -0.753085             -0.926494 -0.183745  0.446337   \n",
      "...                   ...                   ...       ...       ...   \n",
      "1569            -0.083669             -0.379133 -1.476978  1.094265   \n",
      "1570             0.298854             -0.348724 -1.773786  0.381544   \n",
      "1571            -0.083669             -0.652813 -0.851562  0.835093   \n",
      "1572             1.828946              1.749495 -0.226146  0.122373   \n",
      "1573            -0.083669              0.107411 -1.100668  1.742192   \n",
      "1574             0.681377              1.384587  0.012360  0.511130   \n",
      "1575            -0.370562             -0.804858 -1.063567 -0.331177   \n",
      "1576             0.011961             -0.531178 -0.459352 -0.072005   \n",
      "1577            -0.274931             -0.591995 -0.279147  1.483021   \n",
      "1578            -0.274931             -0.804858 -0.713758  0.705508   \n",
      "1579             0.777007             -0.439951 -1.445177  1.483021   \n",
      "1580            -0.657454             -0.622404 -1.084768  0.316751   \n",
      "1581             0.777007             -0.439951 -1.445177  1.483021   \n",
      "1582            -0.274931             -0.591995 -1.657183  1.677400   \n",
      "1583             1.542054              1.567041 -0.512353  0.122373   \n",
      "1584             0.777007             -0.379133 -1.010566 -0.136798   \n",
      "1585             0.585746              0.046593 -0.957565 -0.072005   \n",
      "1586             1.733315              0.411500 -0.968165  0.187166   \n",
      "1587             0.203223             -0.561586 -1.015866  1.547814   \n",
      "1588             1.733315              1.688677 -1.381576 -0.266384   \n",
      "1589             1.255161              0.989271  0.505273 -0.136798   \n",
      "1590             0.968269             -0.348724 -1.911589  0.057580   \n",
      "1591             0.011961             -0.622404 -1.445177  2.325327   \n",
      "1592             1.255161             -0.196679 -0.533554  0.705508   \n",
      "1593             1.159531             -0.257497 -0.125443  0.705508   \n",
      "1594             1.542054             -0.075043 -0.978765  0.899886   \n",
      "1595             2.211469              0.137820 -0.862162  1.353436   \n",
      "1596             1.255161             -0.196679 -0.533554  0.705508   \n",
      "1597             1.542054             -0.075043 -0.676657  1.677400   \n",
      "1598             0.203223             -0.135861 -0.666057  0.511130   \n",
      "\n",
      "      sulphates   alcohol  \n",
      "0     -0.579207 -0.960246  \n",
      "1      0.128950 -0.584777  \n",
      "2     -0.048089 -0.584777  \n",
      "3     -0.461180 -0.584777  \n",
      "4     -0.579207 -0.960246  \n",
      "5     -0.579207 -0.960246  \n",
      "6     -1.169337 -0.960246  \n",
      "7     -1.110324 -0.397043  \n",
      "8     -0.520193 -0.866379  \n",
      "9      0.837107  0.072294  \n",
      "10    -0.697233 -1.147981  \n",
      "11     0.837107  0.072294  \n",
      "12    -0.815259 -0.490910  \n",
      "13     5.322101 -1.241848  \n",
      "14     1.309212 -1.147981  \n",
      "15     1.604277 -1.147981  \n",
      "16     0.542042  0.072294  \n",
      "17     3.669735 -1.054113  \n",
      "18    -0.933285 -1.335715  \n",
      "19     2.489473 -1.147981  \n",
      "20    -0.756246 -0.960246  \n",
      "21    -0.048089 -0.678644  \n",
      "22     1.486251 -0.866379  \n",
      "23    -0.756246 -0.960246  \n",
      "24    -0.166115 -0.678644  \n",
      "25    -0.579207 -1.054113  \n",
      "26    -0.402167 -0.866379  \n",
      "27     1.486251 -0.866379  \n",
      "28    -0.638220 -0.960246  \n",
      "29    -0.402167 -0.584777  \n",
      "...         ...       ...  \n",
      "1569  -0.520193  1.010966  \n",
      "1570   1.604277  1.855771  \n",
      "1571  -0.048089  0.635497  \n",
      "1572  -0.874272 -0.866379  \n",
      "1573   0.069937  1.949639  \n",
      "1574  -1.051311  0.072294  \n",
      "1575  -0.107102  1.292568  \n",
      "1576   0.719081  0.353895  \n",
      "1577  -0.343154  1.386435  \n",
      "1578   0.069937  0.823232  \n",
      "1579  -0.343154  0.823232  \n",
      "1580  -0.343154  1.386435  \n",
      "1581  -0.343154  0.823232  \n",
      "1582  -0.933285  1.386435  \n",
      "1583  -0.225128 -0.584777  \n",
      "1584   0.837107  1.104833  \n",
      "1585   1.073160  1.010966  \n",
      "1586   1.132173  0.917099  \n",
      "1587   0.010924  0.447763  \n",
      "1588   0.719081  2.231240  \n",
      "1589  -0.697233 -1.147981  \n",
      "1590   0.955133  1.104833  \n",
      "1591  -0.579207  1.104833  \n",
      "1592   0.542042  0.541630  \n",
      "1593   0.955133 -0.866379  \n",
      "1594  -0.461180  0.072294  \n",
      "1595   0.601055  0.729364  \n",
      "1596   0.542042  0.541630  \n",
      "1597   0.305990 -0.209308  \n",
      "1598   0.010924  0.541630  \n",
      "\n",
      "[1599 rows x 11 columns]\n"
     ]
    }
   ],
   "source": [
    "print(scaled_data)"
   ]
  },
  {
   "cell_type": "code",
   "execution_count": 78,
   "metadata": {},
   "outputs": [
    {
     "ename": "KeyError",
     "evalue": "0",
     "output_type": "error",
     "traceback": [
      "\u001b[0;31m---------------------------------------------------------------------------\u001b[0m",
      "\u001b[0;31mKeyError\u001b[0m                                  Traceback (most recent call last)",
      "\u001b[0;32m/opt/conda/lib/python3.7/site-packages/pandas/core/indexes/base.py\u001b[0m in \u001b[0;36mget_loc\u001b[0;34m(self, key, method, tolerance)\u001b[0m\n\u001b[1;32m   2656\u001b[0m             \u001b[0;32mtry\u001b[0m\u001b[0;34m:\u001b[0m\u001b[0;34m\u001b[0m\u001b[0;34m\u001b[0m\u001b[0m\n\u001b[0;32m-> 2657\u001b[0;31m                 \u001b[0;32mreturn\u001b[0m \u001b[0mself\u001b[0m\u001b[0;34m.\u001b[0m\u001b[0m_engine\u001b[0m\u001b[0;34m.\u001b[0m\u001b[0mget_loc\u001b[0m\u001b[0;34m(\u001b[0m\u001b[0mkey\u001b[0m\u001b[0;34m)\u001b[0m\u001b[0;34m\u001b[0m\u001b[0;34m\u001b[0m\u001b[0m\n\u001b[0m\u001b[1;32m   2658\u001b[0m             \u001b[0;32mexcept\u001b[0m \u001b[0mKeyError\u001b[0m\u001b[0;34m:\u001b[0m\u001b[0;34m\u001b[0m\u001b[0;34m\u001b[0m\u001b[0m\n",
      "\u001b[0;32mpandas/_libs/index.pyx\u001b[0m in \u001b[0;36mpandas._libs.index.IndexEngine.get_loc\u001b[0;34m()\u001b[0m\n",
      "\u001b[0;32mpandas/_libs/index.pyx\u001b[0m in \u001b[0;36mpandas._libs.index.IndexEngine.get_loc\u001b[0;34m()\u001b[0m\n",
      "\u001b[0;32mpandas/_libs/hashtable_class_helper.pxi\u001b[0m in \u001b[0;36mpandas._libs.hashtable.PyObjectHashTable.get_item\u001b[0;34m()\u001b[0m\n",
      "\u001b[0;32mpandas/_libs/hashtable_class_helper.pxi\u001b[0m in \u001b[0;36mpandas._libs.hashtable.PyObjectHashTable.get_item\u001b[0;34m()\u001b[0m\n",
      "\u001b[0;31mKeyError\u001b[0m: 0",
      "\nDuring handling of the above exception, another exception occurred:\n",
      "\u001b[0;31mKeyError\u001b[0m                                  Traceback (most recent call last)",
      "\u001b[0;32m<ipython-input-78-75a72b2bb289>\u001b[0m in \u001b[0;36m<module>\u001b[0;34m\u001b[0m\n\u001b[1;32m      1\u001b[0m \u001b[0;32mfor\u001b[0m \u001b[0mi\u001b[0m \u001b[0;32min\u001b[0m \u001b[0mrange\u001b[0m\u001b[0;34m(\u001b[0m\u001b[0mlen\u001b[0m\u001b[0;34m(\u001b[0m\u001b[0mscaled_data\u001b[0m\u001b[0;34m)\u001b[0m\u001b[0;34m)\u001b[0m\u001b[0;34m:\u001b[0m\u001b[0;34m\u001b[0m\u001b[0;34m\u001b[0m\u001b[0m\n\u001b[0;32m----> 2\u001b[0;31m     \u001b[0mprint\u001b[0m\u001b[0;34m(\u001b[0m\u001b[0mnp\u001b[0m\u001b[0;34m.\u001b[0m\u001b[0mvar\u001b[0m\u001b[0;34m(\u001b[0m\u001b[0mscaled_data\u001b[0m\u001b[0;34m[\u001b[0m\u001b[0mi\u001b[0m\u001b[0;34m]\u001b[0m\u001b[0;34m)\u001b[0m\u001b[0;34m)\u001b[0m\u001b[0;34m\u001b[0m\u001b[0;34m\u001b[0m\u001b[0m\n\u001b[0m",
      "\u001b[0;32m/opt/conda/lib/python3.7/site-packages/pandas/core/frame.py\u001b[0m in \u001b[0;36m__getitem__\u001b[0;34m(self, key)\u001b[0m\n\u001b[1;32m   2925\u001b[0m             \u001b[0;32mif\u001b[0m \u001b[0mself\u001b[0m\u001b[0;34m.\u001b[0m\u001b[0mcolumns\u001b[0m\u001b[0;34m.\u001b[0m\u001b[0mnlevels\u001b[0m \u001b[0;34m>\u001b[0m \u001b[0;36m1\u001b[0m\u001b[0;34m:\u001b[0m\u001b[0;34m\u001b[0m\u001b[0;34m\u001b[0m\u001b[0m\n\u001b[1;32m   2926\u001b[0m                 \u001b[0;32mreturn\u001b[0m \u001b[0mself\u001b[0m\u001b[0;34m.\u001b[0m\u001b[0m_getitem_multilevel\u001b[0m\u001b[0;34m(\u001b[0m\u001b[0mkey\u001b[0m\u001b[0;34m)\u001b[0m\u001b[0;34m\u001b[0m\u001b[0;34m\u001b[0m\u001b[0m\n\u001b[0;32m-> 2927\u001b[0;31m             \u001b[0mindexer\u001b[0m \u001b[0;34m=\u001b[0m \u001b[0mself\u001b[0m\u001b[0;34m.\u001b[0m\u001b[0mcolumns\u001b[0m\u001b[0;34m.\u001b[0m\u001b[0mget_loc\u001b[0m\u001b[0;34m(\u001b[0m\u001b[0mkey\u001b[0m\u001b[0;34m)\u001b[0m\u001b[0;34m\u001b[0m\u001b[0;34m\u001b[0m\u001b[0m\n\u001b[0m\u001b[1;32m   2928\u001b[0m             \u001b[0;32mif\u001b[0m \u001b[0mis_integer\u001b[0m\u001b[0;34m(\u001b[0m\u001b[0mindexer\u001b[0m\u001b[0;34m)\u001b[0m\u001b[0;34m:\u001b[0m\u001b[0;34m\u001b[0m\u001b[0;34m\u001b[0m\u001b[0m\n\u001b[1;32m   2929\u001b[0m                 \u001b[0mindexer\u001b[0m \u001b[0;34m=\u001b[0m \u001b[0;34m[\u001b[0m\u001b[0mindexer\u001b[0m\u001b[0;34m]\u001b[0m\u001b[0;34m\u001b[0m\u001b[0;34m\u001b[0m\u001b[0m\n",
      "\u001b[0;32m/opt/conda/lib/python3.7/site-packages/pandas/core/indexes/base.py\u001b[0m in \u001b[0;36mget_loc\u001b[0;34m(self, key, method, tolerance)\u001b[0m\n\u001b[1;32m   2657\u001b[0m                 \u001b[0;32mreturn\u001b[0m \u001b[0mself\u001b[0m\u001b[0;34m.\u001b[0m\u001b[0m_engine\u001b[0m\u001b[0;34m.\u001b[0m\u001b[0mget_loc\u001b[0m\u001b[0;34m(\u001b[0m\u001b[0mkey\u001b[0m\u001b[0;34m)\u001b[0m\u001b[0;34m\u001b[0m\u001b[0;34m\u001b[0m\u001b[0m\n\u001b[1;32m   2658\u001b[0m             \u001b[0;32mexcept\u001b[0m \u001b[0mKeyError\u001b[0m\u001b[0;34m:\u001b[0m\u001b[0;34m\u001b[0m\u001b[0;34m\u001b[0m\u001b[0m\n\u001b[0;32m-> 2659\u001b[0;31m                 \u001b[0;32mreturn\u001b[0m \u001b[0mself\u001b[0m\u001b[0;34m.\u001b[0m\u001b[0m_engine\u001b[0m\u001b[0;34m.\u001b[0m\u001b[0mget_loc\u001b[0m\u001b[0;34m(\u001b[0m\u001b[0mself\u001b[0m\u001b[0;34m.\u001b[0m\u001b[0m_maybe_cast_indexer\u001b[0m\u001b[0;34m(\u001b[0m\u001b[0mkey\u001b[0m\u001b[0;34m)\u001b[0m\u001b[0;34m)\u001b[0m\u001b[0;34m\u001b[0m\u001b[0;34m\u001b[0m\u001b[0m\n\u001b[0m\u001b[1;32m   2660\u001b[0m         \u001b[0mindexer\u001b[0m \u001b[0;34m=\u001b[0m \u001b[0mself\u001b[0m\u001b[0;34m.\u001b[0m\u001b[0mget_indexer\u001b[0m\u001b[0;34m(\u001b[0m\u001b[0;34m[\u001b[0m\u001b[0mkey\u001b[0m\u001b[0;34m]\u001b[0m\u001b[0;34m,\u001b[0m \u001b[0mmethod\u001b[0m\u001b[0;34m=\u001b[0m\u001b[0mmethod\u001b[0m\u001b[0;34m,\u001b[0m \u001b[0mtolerance\u001b[0m\u001b[0;34m=\u001b[0m\u001b[0mtolerance\u001b[0m\u001b[0;34m)\u001b[0m\u001b[0;34m\u001b[0m\u001b[0;34m\u001b[0m\u001b[0m\n\u001b[1;32m   2661\u001b[0m         \u001b[0;32mif\u001b[0m \u001b[0mindexer\u001b[0m\u001b[0;34m.\u001b[0m\u001b[0mndim\u001b[0m \u001b[0;34m>\u001b[0m \u001b[0;36m1\u001b[0m \u001b[0;32mor\u001b[0m \u001b[0mindexer\u001b[0m\u001b[0;34m.\u001b[0m\u001b[0msize\u001b[0m \u001b[0;34m>\u001b[0m \u001b[0;36m1\u001b[0m\u001b[0;34m:\u001b[0m\u001b[0;34m\u001b[0m\u001b[0;34m\u001b[0m\u001b[0m\n",
      "\u001b[0;32mpandas/_libs/index.pyx\u001b[0m in \u001b[0;36mpandas._libs.index.IndexEngine.get_loc\u001b[0;34m()\u001b[0m\n",
      "\u001b[0;32mpandas/_libs/index.pyx\u001b[0m in \u001b[0;36mpandas._libs.index.IndexEngine.get_loc\u001b[0;34m()\u001b[0m\n",
      "\u001b[0;32mpandas/_libs/hashtable_class_helper.pxi\u001b[0m in \u001b[0;36mpandas._libs.hashtable.PyObjectHashTable.get_item\u001b[0;34m()\u001b[0m\n",
      "\u001b[0;32mpandas/_libs/hashtable_class_helper.pxi\u001b[0m in \u001b[0;36mpandas._libs.hashtable.PyObjectHashTable.get_item\u001b[0;34m()\u001b[0m\n",
      "\u001b[0;31mKeyError\u001b[0m: 0"
     ]
    }
   ],
   "source": [
    "for i in range(len(scaled_data)):\n",
    "    print(np.var(scaled_data[i]))"
   ]
  },
  {
   "cell_type": "code",
   "execution_count": 79,
   "metadata": {},
   "outputs": [
    {
     "data": {
      "text/plain": [
       "LinearRegression(copy_X=True, fit_intercept=True, n_jobs=None,\n",
       "         normalize=False)"
      ]
     },
     "execution_count": 79,
     "metadata": {},
     "output_type": "execute_result"
    }
   ],
   "source": [
    "linreg.fit(X_train, y_train)"
   ]
  },
  {
   "cell_type": "code",
   "execution_count": 80,
   "metadata": {},
   "outputs": [
    {
     "data": {
      "text/plain": [
       "0.49083830035637666"
      ]
     },
     "execution_count": 80,
     "metadata": {},
     "output_type": "execute_result"
    }
   ],
   "source": [
    "y = df['quality']\n",
    "X = df.drop('quality', axis=1)\n",
    "scaled_data = pd.DataFrame(scaled_data, columns=X.columns)\n",
    "X_train, X_test, y_train, y_test = train_test_split(scaled_data, y, test_size=0.33, random_state=101)\n",
    "y_pred = linreg.predict(X_test)\n",
    "mean_squared_error(y_test, y_pred)"
   ]
  },
  {
   "cell_type": "code",
   "execution_count": null,
   "metadata": {},
   "outputs": [],
   "source": []
  }
 ],
 "metadata": {
  "kernelspec": {
   "display_name": "Python 3",
   "language": "python",
   "name": "python3"
  },
  "language_info": {
   "codemirror_mode": {
    "name": "ipython",
    "version": 3
   },
   "file_extension": ".py",
   "mimetype": "text/x-python",
   "name": "python",
   "nbconvert_exporter": "python",
   "pygments_lexer": "ipython3",
   "version": "3.7.1"
  }
 },
 "nbformat": 4,
 "nbformat_minor": 2
}
